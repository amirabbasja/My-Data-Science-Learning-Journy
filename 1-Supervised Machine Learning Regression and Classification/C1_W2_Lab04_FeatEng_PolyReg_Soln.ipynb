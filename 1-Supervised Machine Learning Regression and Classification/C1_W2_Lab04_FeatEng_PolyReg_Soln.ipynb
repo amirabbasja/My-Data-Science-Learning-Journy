{
 "cells": [
  {
   "cell_type": "code",
   "execution_count": 11,
   "metadata": {},
   "outputs": [],
   "source": [
    "import numpy as np\n",
    "import pandas as pd\n",
    "import matplotlib.pyplot as plt"
   ]
  },
  {
   "cell_type": "code",
   "execution_count": 8,
   "metadata": {},
   "outputs": [],
   "source": [
    "# Generate target data\n",
    "x = np.arange(0,20,1)\n",
    "y = 1 + x**2\n",
    "X = x.reshape(-1, 1)"
   ]
  },
  {
   "cell_type": "code",
   "execution_count": 15,
   "metadata": {},
   "outputs": [
    {
     "data": {
      "image/png": "[encoded data removed]",
      "text/plain": [
       "<Figure size 432x288 with 1 Axes>"
      ]
     },
     "metadata": {
      "needs_background": "light"
     },
     "output_type": "display_data"
    }
   ],
   "source": [
    "def predict(X, w, b):\n",
    "    return np.dot(X,w)+b\n",
    "\n",
    "def computeCost(X, w, b, y):\n",
    "    n = X.shape[0]\n",
    "    cost = 0\n",
    "    for i in range(n):\n",
    "        cost += (y[i] - predict(X[i], w, b))**2\n",
    "\n",
    "    return cost/(2*n)\n",
    "\n",
    "def compueteGradient(X,y,w,b):\n",
    "    n = X.shape[0]\n",
    "    m = X.shape[1]\n",
    "    gradient_W = np.zeros(m)\n",
    "    gradient_b = 0\n",
    "    for i in range(n):\n",
    "        for j in range(m):\n",
    "            gradient_W[j] += (predict(X[i,:],w,b)-y[i])*X[i,j]\n",
    "        gradient_b += (predict(X[i,:],w,b)-y[i])\n",
    "    return gradient_W/n, gradient_b/n\n",
    "\n",
    "def gradientDescent(X, y, w0, b0, alpha, numIters):\n",
    "    w = w0\n",
    "    b = b0\n",
    "    costArray = np.zeros(numIters)\n",
    "\n",
    "    for i in range(numIters):\n",
    "        w = w - alpha * compueteGradient(X,y,w,b)[0]\n",
    "        b = b - alpha * compueteGradient(X,y,w,b)[1]\n",
    "        costArray[i] = computeCost(X,w,b,y)\n",
    "\n",
    "    return w, b, costArray\n",
    "\n",
    "def zScoreNormalization(X):\n",
    "    return (X- np.mean(X))/np.std(X)\n",
    "\n",
    "# Comparing the Linear regression's results with the target data\n",
    "w, b, costArray = gradientDescent(X, y, np.zeros(X.shape[1]), 0, 0.01, 1000)\n",
    "plt.scatter(x,y)\n",
    "plt.plot(x, predict(X,w,b), \"r\")\n",
    "plt.show()"
   ]
  },
  {
   "cell_type": "code",
   "execution_count": 30,
   "metadata": {},
   "outputs": [
    {
     "data": {
      "image/png": "[encoded data removed]",
      "text/plain": [
       "<Figure size 432x288 with 1 Axes>"
      ]
     },
     "metadata": {
      "needs_background": "light"
     },
     "output_type": "display_data"
    }
   ],
   "source": [
    "x = np.arange(0, 20, 1)\n",
    "y = 1 + x**2\n",
    "\n",
    "# feature engineering\n",
    "X = x**2\n",
    "X = X.reshape(-1, 1)\n",
    "X = zScoreNormalization(X)\n",
    "y = zScoreNormalization(y)\n",
    "w, b, costArray = gradientDescent(X, y, np.zeros(X.shape[1]), 0, 0.01, 1000)\n",
    "\n",
    "plt.scatter(x,y)\n",
    "plt.plot(x, predict(X,w,b), \"r\")\n",
    "plt.show()"
   ]
  }
 ],
 "metadata": {
  "kernelspec": {
   "display_name": ".MotherVenv",
   "language": "python",
   "name": "python3"
  },
  "language_info": {
   "codemirror_mode": {
    "name": "ipython",
    "version": 3
   },
   "file_extension": ".py",
   "mimetype": "text/x-python",
   "name": "python",
   "nbconvert_exporter": "python",
   "pygments_lexer": "ipython3",
   "version": "3.9.7"
  },
  "orig_nbformat": 4
 },
 "nbformat": 4,
 "nbformat_minor": 2
}
