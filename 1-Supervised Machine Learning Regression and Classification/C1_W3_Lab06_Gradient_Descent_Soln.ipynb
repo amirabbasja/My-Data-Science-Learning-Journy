{
 "cells": [
  {
   "cell_type": "code",
   "execution_count": 8,
   "metadata": {},
   "outputs": [],
   "source": [
    "import numpy as np\n",
    "import matplotlib.pyplot as plt\n",
    "import math"
   ]
  },
  {
   "cell_type": "code",
   "execution_count": 2,
   "metadata": {},
   "outputs": [
    {
     "data": {
      "image/png": "[encoded data removed]",
      "text/plain": [
       "<Figure size 576x576 with 1 Axes>"
      ]
     },
     "metadata": {
      "needs_background": "light"
     },
     "output_type": "display_data"
    }
   ],
   "source": [
    "X_train = np.array([[0.5, 1.5], [1,1], [1.5, 0.5], [3, 0.5], [2, 2], [1, 2.5]])\n",
    "y_train = np.array([0, 0, 0, 1, 1, 1])\n",
    "\n",
    "fig, ax = plt.subplots(1,1,figsize=(8,8))\n",
    "for i in range(len(X_train)):\n",
    "    if y_train[i] == 0:\n",
    "        ax.scatter(X_train[i][0],X_train[i][1], color = \"r\", marker = \"X\")\n",
    "    else:\n",
    "        ax.scatter(X_train[i][0],X_train[i][1], color = \"b\", marker = \"o\")\n",
    "\n"
   ]
  },
  {
   "cell_type": "code",
   "execution_count": 35,
   "metadata": {},
   "outputs": [
    {
     "name": "stdout",
     "output_type": "stream",
     "text": [
      "dj_db: 0.49861806546328574\n",
      "dj_dw: [0.498333393278696, 0.49883942983996693]\n"
     ]
    }
   ],
   "source": [
    "def sigmoid(z):\n",
    "    return 1/(1+np.exp(-z))\n",
    "\n",
    "def cost(X, y, w, b):\n",
    "    m = X.shape[0]\n",
    "    cost_ = 0\n",
    "\n",
    "    for i in range(m):\n",
    "        cost_ += y[i]*np.log( sigmoid ( np.dot(X[i,:],w) + b ) ) + (1-y[i]*np.log(1-sigmoid ( np.dot(X[i,:],w) +b) ))\n",
    "    return -cost_/m\n",
    "\n",
    "def computeGrediantLogistic(X,y,w,b):\n",
    "    m,n = X.shape\n",
    "    \n",
    "    grad_w = np.zeros((n,))\n",
    "    grad_b = 0\n",
    "\n",
    "    for i in range(m):\n",
    "        f_wb_i = sigmoid(np.dot(X[i],w) + b) \n",
    "        for j in range(n):\n",
    "            grad_w[j] += X[i,j] * (sigmoid(np.dot(w, X[i]) + b) - y[i])\n",
    "        grad_b += sigmoid(np.dot(w, X[i]) + b) - y[i]\n",
    "    return grad_w/m, grad_b/m\n",
    "\n",
    "def compute_gradient_logistic(X, y, w, b): \n",
    "    m,n = X.shape\n",
    "    dj_dw = np.zeros((n,))                           #(n,)\n",
    "    dj_db = 0.\n",
    "\n",
    "    for i in range(m):\n",
    "        f_wb_i = sigmoid(np.dot(X[i],w) + b)          #(n,)(n,)=scalar\n",
    "        err_i  = f_wb_i  - y[i]                       #scalar\n",
    "        for j in range(n):\n",
    "            dj_dw[j] = dj_dw[j] + err_i * X[i,j]      #scalar\n",
    "        dj_db = dj_db + err_i\n",
    "    dj_dw = dj_dw/m                                   #(n,)\n",
    "    dj_db = dj_db/m                                   #scalar\n",
    "        \n",
    "    return dj_dw , dj_db\n",
    "\n",
    "X_tmp = np.array([[0.5, 1.5], [1,1], [1.5, 0.5], [3, 0.5], [2, 2], [1, 2.5]])\n",
    "y_tmp = np.array([0, 0, 0, 1, 1, 1])\n",
    "w_tmp = np.array([2.,3.])\n",
    "b_tmp = 1.\n",
    "dj_dw_tmp, dj_db_tmp = computeGrediantLogistic(X_tmp, y_tmp, w_tmp, b_tmp)\n",
    "print(f\"dj_db: {dj_db_tmp}\" )\n",
    "print(f\"dj_dw: {dj_dw_tmp.tolist()}\" )"
   ]
  },
  {
   "cell_type": "code",
   "execution_count": 37,
   "metadata": {},
   "outputs": [
    {
     "name": "stdout",
     "output_type": "stream",
     "text": [
      "\n",
      "updated parameters: w:[5.28123029 5.07815608], b:-14.222409982019837\n"
     ]
    }
   ],
   "source": [
    "def grediantDescent(X, y, wInit, bInit, alpha, numIters):\n",
    "    w = wInit\n",
    "    b = bInit\n",
    "    Jhistory = np.zeros((numIters,))\n",
    "    Losshistory = np.zeros((numIters,))\n",
    "\n",
    "    for i in range(numIters):\n",
    "        w += - alpha * computeGrediantLogistic(X, y, w, b)[0]\n",
    "        b += - alpha * computeGrediantLogistic(X, y, w, b)[1]\n",
    "        Jhistory[i] =  cost(X,y,w,b)\n",
    "    return w, b, Jhistory, Losshistory\n",
    "\n",
    "w_tmp  = np.zeros_like(X_train[0])\n",
    "b_tmp  = 0.\n",
    "alph = 0.1\n",
    "iters = 10000\n",
    "\n",
    "w_out, b_out, Jhistory, Losshistory = gradient_descent(X_train, y_train, w_tmp, b_tmp, alph, iters) \n",
    "print(f\"\\nupdated parameters: w:{w_out}, b:{b_out}\")"
   ]
  },
  {
   "cell_type": "code",
   "execution_count": 38,
   "metadata": {},
   "outputs": [
    {
     "data": {
      "image/png": "[encoded data removed]",
      "text/plain": [
       "<Figure size 576x576 with 1 Axes>"
      ]
     },
     "metadata": {
      "needs_background": "light"
     },
     "output_type": "display_data"
    }
   ],
   "source": [
    "fig, ax = plt.subplots(1,1,figsize=(8,8))\n",
    "for i in range(len(X_train)):\n",
    "    if y_train[i] == 0:\n",
    "        ax.scatter(X_train[i][0],X_train[i][1], color = \"r\", marker = \"X\")\n",
    "    else:\n",
    "        ax.scatter(X_train[i][0],X_train[i][1], color = \"b\", marker = \"o\")\n",
    "\n",
    "x0 = -b_out/w_out[0]\n",
    "x1 = -b_out/w_out[1]\n",
    "ax.plot([0,x0],[x1,0], c=\"b\", lw=1)\n",
    "plt.show()"
   ]
  }
 ],
 "metadata": {
  "kernelspec": {
   "display_name": ".MotherVenv",
   "language": "python",
   "name": "python3"
  },
  "language_info": {
   "codemirror_mode": {
    "name": "ipython",
    "version": 3
   },
   "file_extension": ".py",
   "mimetype": "text/x-python",
   "name": "python",
   "nbconvert_exporter": "python",
   "pygments_lexer": "ipython3",
   "version": "3.9.7"
  },
  "orig_nbformat": 4
 },
 "nbformat": 4,
 "nbformat_minor": 2
}
