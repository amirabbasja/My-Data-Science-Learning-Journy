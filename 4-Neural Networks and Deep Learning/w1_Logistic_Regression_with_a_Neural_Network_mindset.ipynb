{
 "cells": [
  {
   "cell_type": "code",
   "execution_count": 79,
   "metadata": {},
   "outputs": [],
   "source": [
    "import numpy as np\n",
    "import copy\n",
    "import h5py\n",
    "import scipy\n",
    "from PIL import Image\n",
    "from scipy import ndimage\n",
    "import matplotlib.pyplot as plt"
   ]
  },
  {
   "cell_type": "code",
   "execution_count": 80,
   "metadata": {},
   "outputs": [],
   "source": [
    "# Loading the train, test datasets and \n",
    "\n",
    "with h5py.File(\"./datas/test_catvnoncat.h5\", \"r\") as f:\n",
    "    testSetX = np.array(f[\"test_set_x\"])\n",
    "    testSetY = np.array(f[\"test_set_y\"])\n",
    "    classes = np.array(f[\"list_classes\"][:])\n",
    "\n",
    "with h5py.File(\"./datas/train_catvnoncat.h5\", \"r\") as f:\n",
    "    trainSetX = np.array(f[\"train_set_x\"])\n",
    "    trainSetY = np.array(f[\"train_set_y\"])\n",
    "\n",
    "numTrain = trainSetX.shape[0] # Number of trining data\n",
    "numTest = testSetX.shape[0] # Number of test data\n",
    "numPx = testSetX.shape[1] # Length of each image (Assuming rectangular images)\n",
    "\n",
    "# Flatten the training and test sets\n",
    "trainSetX = trainSetX.reshape((numTrain, -1)).T\n",
    "testSetX = testSetX.reshape((numTest, -1)).T\n",
    "\n",
    "# Standardize the datasets by deviding them to 255\n",
    "trainSetX = trainSetX / 255.\n",
    "testSetX = testSetX / 255."
   ]
  },
  {
   "cell_type": "code",
   "execution_count": 85,
   "metadata": {},
   "outputs": [],
   "source": [
    "def sigmoid(z):\n",
    "    return 1/(1+np.exp(-z))\n",
    "\n",
    "def initialize_with_zeros(dim):\n",
    "    w = np.zeros((dim, 1))\n",
    "    b = 0.\n",
    "    return w, b\n",
    "\n",
    "def propagate(w, b, X, Y):\n",
    "    n,m = X.shape\n",
    "\n",
    "    # Calculating the activation value\n",
    "    Aa = sigmoid(np.dot(w.T, X)+b)\n",
    "    # Calculate cost\n",
    "    cost = -1/m*np.sum(Y*np.log(Aa)+(1-Y)*np.log(1-Aa))\n",
    "    \n",
    "    # Calculate gradients\n",
    "    dw = 1/m*np.matmul(X,((Aa-Y).T))\n",
    "    db = 1/m*np.sum(Aa-Y)\n",
    "\n",
    "    cost = np.squeeze(np.array(cost))\n",
    "    grads = {\"dw\": dw,\n",
    "             \"db\": db}\n",
    "    \n",
    "    return grads, cost\n",
    "\n",
    "def optimize(w, b, X, Y, maxIter=100, learningRate=0.009, printCost=False):\n",
    "    # using gradient descent to optimize weights and bias\n",
    "    costs = list()\n",
    "    for i in range(maxIter):\n",
    "        grads, cost = propagate(w,b,X,Y)\n",
    "\n",
    "        w = w - learningRate * grads[\"dw\"]\n",
    "        b = b - learningRate * grads[\"db\"]\n",
    "\n",
    "        if i % 100 == 0:\n",
    "            costs.append(cost)\n",
    "            print(f\"cost after iteration {i}: {cost}\") if printCost else None\n",
    "\n",
    "    params = {\"w\": w,\n",
    "              \"b\": b}\n",
    "    \n",
    "    grads = {\"dw\": grads[\"dw\"],\n",
    "             \"db\": grads[\"db\"]}\n",
    "    \n",
    "    return params, grads, costs\n",
    "\n",
    "def predict(w, b, X):\n",
    "    # Predict the product of an input with respect to trained weights and bias\n",
    "\n",
    "    m = X.shape[1]\n",
    "    pred = np.zeros((m,1))\n",
    "    w = w.reshape(X.shape[0], 1)\n",
    "\n",
    "    A = sigmoid(np.dot(w.T, X)+b)\n",
    "\n",
    "    for i in range(A.shape[1]):\n",
    "        if A[0,i] > .5:\n",
    "            pred[i] = 1\n",
    "        else:\n",
    "            pred[i] = 0\n",
    "    return pred\n",
    "\n",
    "def model(xTrain, yTrain, xTest, yTest, numIters = 2000, learningrate = .5, printCost = False):\n",
    "    # Bundles all the functions necessary for a logistic regression model, gets \n",
    "    # the input and trains a simpel 1-layer network\n",
    "    \n",
    "    # Initialize the weights and bias\n",
    "    w,b = initialize_with_zeros(xTrain.shape[0])\n",
    "\n",
    "    params, grads, costs = optimize(w, b, xTrain, yTrain, numIters, learningrate, printCost)\n",
    "    w = params[\"w\"]\n",
    "    b = params[\"b\"]\n",
    "\n",
    "    yPredTest = predict(w, b, xTest)\n",
    "    yPredTrain = predict(w, b, xTrain)\n",
    "\n",
    "    return{\n",
    "        \"costs\": costs,\n",
    "        \"Y_prediction_test\": yPredTest, \n",
    "        \"Y_prediction_train\" : yPredTrain, \n",
    "        \"w\" : w, \n",
    "        \"b\" : b,\n",
    "        \"learning_rate\" : learningrate,\n",
    "        \"num_iterations\": numIters\n",
    "    }\n",
    "\n"
   ]
  },
  {
   "cell_type": "code",
   "execution_count": 101,
   "metadata": {},
   "outputs": [
    {
     "name": "stdout",
     "output_type": "stream",
     "text": [
      "cost after iteration 0: 0.6931471805599453\n",
      "cost after iteration 100: 0.5845083636993086\n",
      "cost after iteration 200: 0.46694904094655476\n",
      "cost after iteration 300: 0.37600686694802093\n",
      "cost after iteration 400: 0.3314632893282512\n",
      "cost after iteration 500: 0.30327306747438293\n",
      "cost after iteration 600: 0.27987958658260487\n",
      "cost after iteration 700: 0.2600421369258757\n",
      "cost after iteration 800: 0.2429406846779662\n",
      "cost after iteration 900: 0.22800422256726066\n",
      "cost after iteration 1000: 0.2148195137844964\n",
      "cost after iteration 1100: 0.20307819060644985\n",
      "cost after iteration 1200: 0.19254427716706862\n",
      "cost after iteration 1300: 0.18303333796883509\n",
      "cost after iteration 1400: 0.17439859438448874\n",
      "cost after iteration 1500: 0.16652139705400332\n",
      "cost after iteration 1600: 0.15930451829756614\n",
      "cost after iteration 1700: 0.15266732471296504\n",
      "cost after iteration 1800: 0.14654223503982336\n",
      "cost after iteration 1900: 0.14087207570310156\n"
     ]
    }
   ],
   "source": [
    "logisticRegression = model(trainSetX, trainSetY, testSetX, testSetY, printCost = True, numIters=2000, learningrate=0.005)"
   ]
  },
  {
   "cell_type": "code",
   "execution_count": 116,
   "metadata": {},
   "outputs": [
    {
     "name": "stdout",
     "output_type": "stream",
     "text": [
      "Cat\n"
     ]
    },
    {
     "data": {
      "image/png": "[encoded data removed]",
      "text/plain": [
       "<Figure size 640x480 with 1 Axes>"
      ]
     },
     "metadata": {},
     "output_type": "display_data"
    }
   ],
   "source": [
    "idx = 5\n",
    "print(\"Cat\") if logisticRegression[\"Y_prediction_test\"][idx] == 1 else print(\"Not cat\")\n",
    "plt.imshow(testSetX[:,idx].reshape((-1,64,3)))\n",
    "plt.show()"
   ]
  },
  {
   "cell_type": "code",
   "execution_count": 122,
   "metadata": {},
   "outputs": [
    {
     "name": "stdout",
     "output_type": "stream",
     "text": [
      "Predicted 35 of 50 right\n"
     ]
    }
   ],
   "source": [
    "count = 0\n",
    "for i in range(len(testSetY)):\n",
    "    # print(i) if testSetY[i] != logisticRegression[\"Y_prediction_test\"][i] else None\n",
    "    if testSetY[i] != logisticRegression[\"Y_prediction_test\"][i] :\n",
    "        count = count + 1 \n",
    "    \n",
    "\n",
    "print(f\"Predicted {len(testSetY) - count} of {len(testSetY)} right\")"
   ]
  }
 ],
 "metadata": {
  "kernelspec": {
   "display_name": "env",
   "language": "python",
   "name": "python3"
  },
  "language_info": {
   "codemirror_mode": {
    "name": "ipython",
    "version": 3
   },
   "file_extension": ".py",
   "mimetype": "text/x-python",
   "name": "python",
   "nbconvert_exporter": "python",
   "pygments_lexer": "ipython3",
   "version": "3.10.6"
  },
  "orig_nbformat": 4
 },
 "nbformat": 4,
 "nbformat_minor": 2
}
