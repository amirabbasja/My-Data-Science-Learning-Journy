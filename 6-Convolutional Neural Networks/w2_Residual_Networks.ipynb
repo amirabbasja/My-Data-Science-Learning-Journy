{
 "cells": [
  {
   "cell_type": "code",
   "execution_count": 6,
   "metadata": {},
   "outputs": [],
   "source": [
    "import tensorflow as tf\n",
    "import numpy as np\n",
    "import scipy.misc\n",
    "import h5py\n",
    "from tensorflow.keras.applications.resnet_v2 import ResNet50V2\n",
    "from tensorflow.keras.preprocessing import image\n",
    "from tensorflow.keras.applications.resnet_v2 import preprocess_input, decode_predictions\n",
    "from tensorflow.keras import layers\n",
    "from tensorflow.keras.layers import Input, Add, Dense, Activation, ZeroPadding2D, Flatten, Conv2D, AveragePooling2D, MaxPooling2D, GlobalMaxPooling2D\n",
    "from tensorflow.keras.models import Model, load_model\n",
    "from w2_resnets_utils import *\n",
    "from tensorflow.keras.initializers import random_uniform, glorot_uniform, constant, identity\n",
    "from tensorflow.python.framework.ops import EagerTensor\n",
    "from matplotlib.pyplot import imshow\n",
    "\n",
    "np.random.seed(1)\n",
    "tf.random.set_seed(2)"
   ]
  },
  {
   "cell_type": "code",
   "execution_count": 7,
   "metadata": {},
   "outputs": [],
   "source": [
    "# loading the datasets\n",
    "with h5py.File(\"./datasets/train_signs.h5\", \"r\") as file:\n",
    "    train_set_x_orig = np.array(file[\"train_set_x\"][:])\n",
    "    train_set_y_orig = np.expand_dims(np.array(file[\"train_set_y\"][:]), 0)\n",
    "    \n",
    "with h5py.File(\"./datasets/test_signs.h5\", \"r\") as file:\n",
    "    test_set_x_orig = np.array(file[\"test_set_x\"][:])\n",
    "    test_set_y_orig =  np.expand_dims(np.array(file[\"test_set_y\"][:]), 0)\n",
    "    classes =  np.array(file[\"list_classes\"][:])"
   ]
  },
  {
   "cell_type": "code",
   "execution_count": 8,
   "metadata": {},
   "outputs": [],
   "source": [
    "def identity_block(X, f, filters, initializer=random_uniform):\n",
    "    \"\"\"\n",
    "    Implementation of the identity block as defined in Figure 4\n",
    "    \n",
    "    Arguments:\n",
    "    X -- input tensor of shape (m, n_H_prev, n_W_prev, n_C_prev)\n",
    "    f -- integer, specifying the shape of the middle CONV's window for the main path\n",
    "    filters -- python list of integers, defining the number of filters in the CONV layers of the main path\n",
    "    initializer -- to set up the initial weights of a layer. Equals to random uniform initializer\n",
    "    \n",
    "    Returns:\n",
    "    X -- output of the identity block, tensor of shape (m, n_H, n_W, n_C)\n",
    "    \"\"\"\n",
    "    \n",
    "    # Retrieve Filters\n",
    "    F1, F2, F3 = filters\n",
    "    \n",
    "    # Save the input value. You'll need this later to add back to the main path. \n",
    "    X_shortcut = X\n",
    "    \n",
    "    # First component of main path\n",
    "    X = tf.keras.layers.Conv2D(filters = F1, kernel_size = 1, strides = (1,1), padding = \"valid\" , kernel_initializer = initializer(seed=0))(X)\n",
    "    X = tf.keras.layers.BatchNormalization(axis = 3)(X)\n",
    "    X = tf.keras.layers.Activation(\"relu\")(X)\n",
    "    \n",
    "    ### START CODE HERE\n",
    "    ## Second component of main path (≈3 lines)\n",
    "    ## Set the padding = 'same'\n",
    "    X = tf.keras.layers.Conv2D(filters = F2, kernel_size = f, strides = (1,1), padding = \"same\", kernel_initializer = initializer(seed=0))(X)\n",
    "    X = tf.keras.layers.BatchNormalization(axis = 3)(X)\n",
    "    X = tf.keras.layers.Activation(\"relu\")(X)\n",
    "\n",
    "    ## Third component of main path (≈2 lines)\n",
    "    ## Set the padding = 'valid'\n",
    "    X = tf.keras.layers.Conv2D(filters = F3, kernel_size = 1, strides = (1,1), padding = \"valid\", kernel_initializer = initializer(seed=0))(X)\n",
    "    X = tf.keras.layers.BatchNormalization(axis = 3)(X)\n",
    "    \n",
    "    ## Final step: Add shortcut value to main path, and pass it through a RELU activation (≈2 lines)\n",
    "    X = tf.keras.layers.Add()([X, X_shortcut])\n",
    "    X = tf.keras.layers.Activation(\"relu\")(X)\n",
    "    ### END CODE HERE\n",
    "\n",
    "    return X"
   ]
  },
  {
   "cell_type": "code",
   "execution_count": 9,
   "metadata": {},
   "outputs": [],
   "source": [
    "def convolutional_block(X, f, filters, s = 2, initializer=glorot_uniform):\n",
    "    \"\"\"\n",
    "    Implementation of the convolutional block as defined in Figure 4\n",
    "    \n",
    "    Arguments:\n",
    "    X -- input tensor of shape (m, n_H_prev, n_W_prev, n_C_prev)\n",
    "    f -- integer, specifying the shape of the middle CONV's window for the main path\n",
    "    filters -- python list of integers, defining the number of filters in the CONV layers of the main path\n",
    "    s -- Integer, specifying the stride to be used\n",
    "    initializer -- to set up the initial weights of a layer. Equals to Glorot uniform initializer, \n",
    "                   also called Xavier uniform initializer.\n",
    "    \n",
    "    Returns:\n",
    "    X -- output of the convolutional block, tensor of shape (m, n_H, n_W, n_C)\n",
    "    \"\"\"\n",
    "    \n",
    "    # Retrieve Filters\n",
    "    F1, F2, F3 = filters\n",
    "    \n",
    "    # Save the input value\n",
    "    X_shortcut = X\n",
    "\n",
    "\n",
    "    ##### MAIN PATH #####\n",
    "    \n",
    "    # First component of main path glorot_uniform(seed=0)\n",
    "    X = tf.keras.layers.Conv2D(filters = F1, kernel_size = 1, strides = (s, s), padding='valid', kernel_initializer = initializer(seed=0))(X)\n",
    "    X = tf.keras.layers.BatchNormalization(axis = 3)(X)\n",
    "    X = tf.keras.layers.Activation('relu')(X)\n",
    "\n",
    "    ### START CODE HERE\n",
    "    \n",
    "    ## Second component of main path (≈3 lines)\n",
    "    X = tf.keras.layers.Conv2D(filters = F2, kernel_size = f, strides = (1,1), padding = \"same\", kernel_initializer = initializer(seed=0))(X)\n",
    "    X = tf.keras.layers.BatchNormalization(axis = 3)(X)\n",
    "    X = tf.keras.layers.Activation(\"relu\")(X)\n",
    "\n",
    "    ## Third component of main path (≈2 lines)\n",
    "    X = tf.keras.layers.Conv2D(filters = F3, kernel_size = 1, strides = (1,1), padding = \"valid\", kernel_initializer = initializer(seed=0))(X)\n",
    "    X = tf.keras.layers.BatchNormalization(axis = 3)(X)\n",
    "    \n",
    "    ##### SHORTCUT PATH ##### (≈2 lines)\n",
    "    X_shortcut = Conv2D(filters = F3, kernel_size = 1, strides = (s,s), padding = \"valid\", kernel_initializer = initializer(seed=0))(X_shortcut)\n",
    "    X_shortcut = BatchNormalization(axis = 3)(X_shortcut)\n",
    "    \n",
    "    ### END CODE HERE\n",
    "\n",
    "    # Final step: Add shortcut value to main path (Use this order [X, X_shortcut]), and pass it through a RELU activation\n",
    "    X = tf.keras.layers.Add()([X, X_shortcut])\n",
    "    X = tf.keras.layers.Activation('relu')(X)\n",
    "    \n",
    "    return X"
   ]
  },
  {
   "cell_type": "code",
   "execution_count": 10,
   "metadata": {},
   "outputs": [],
   "source": [
    "def ResNet50(input_shape = (64, 64, 3), classes = 6, training=False):\n",
    "    \"\"\"\n",
    "    Stage-wise implementation of the architecture of the popular ResNet50:\n",
    "    CONV2D -> BATCHNORM -> RELU -> MAXPOOL -> CONVBLOCK -> IDBLOCK*2 -> CONVBLOCK -> IDBLOCK*3\n",
    "    -> CONVBLOCK -> IDBLOCK*5 -> CONVBLOCK -> IDBLOCK*2 -> AVGPOOL -> FLATTEN -> DENSE \n",
    "\n",
    "    Arguments:\n",
    "    input_shape -- shape of the images of the dataset\n",
    "    classes -- integer, number of classes\n",
    "\n",
    "    Returns:\n",
    "    model -- a Model() instance in Keras\n",
    "    \"\"\"\n",
    "    \n",
    "    # Define the input as a tensor with shape input_shape \n",
    "    X_input = tf.keras.layers.Input(input_shape)\n",
    "\n",
    "    \n",
    "    # Zero-Padding\n",
    "    X = tf.keras.layers.ZeroPadding2D((3, 3))(X_input)\n",
    "    \n",
    "    # Stage 1\n",
    "    X = tf.keras.layers.Conv2D(64, (7, 7), strides = (2, 2), kernel_initializer = glorot_uniform(seed=0))(X)\n",
    "    X = BatchNormalization(axis = 3)(X)\n",
    "    X = tf.keras.layers.Activation('relu')(X)\n",
    "    X = tf.keras.layers.MaxPooling2D((3, 3), strides=(2, 2))(X)\n",
    "\n",
    "    # Stage 2\n",
    "    X = convolutional_block(X, f = 3, filters = [64, 64, 256], s = 1)\n",
    "    X = identity_block(X, 3, [64, 64, 256])\n",
    "    X = identity_block(X, 3, [64, 64, 256])\n",
    "\n",
    "    ### START CODE HERE\n",
    "    \n",
    "    # Use the instructions above in order to implement all of the Stages below\n",
    "    # Make sure you don't miss adding any required parameter\n",
    "    \n",
    "    ## Stage 3 (≈4 lines)\n",
    "    # `convolutional_block` with correct values of `f`, `filters` and `s` for this stage\n",
    "    X = convolutional_block(X, 3, [128,128,512], 2)\n",
    "    \n",
    "    # the 3 `identity_block` with correct values of `f` and `filters` for this stage\n",
    "    X = identity_block(X, 3, [128,128,512])\n",
    "    X = identity_block(X, 3, [128,128,512])\n",
    "    X = identity_block(X, 3, [128,128,512])\n",
    "\n",
    "    # Stage 4 (≈6 lines)\n",
    "    # add `convolutional_block` with correct values of `f`, `filters` and `s` for this stage\n",
    "    X = convolutional_block(X, 3, [256, 256, 1024], 2)\n",
    "    \n",
    "    # the 5 `identity_block` with correct values of `f` and `filters` for this stage\n",
    "    X = identity_block(X, 3, [256, 256, 1024])\n",
    "    X = identity_block(X, 3, [256, 256, 1024])\n",
    "    X = identity_block(X, 3, [256, 256, 1024])\n",
    "    X = identity_block(X, 3, [256, 256, 1024])\n",
    "    X = identity_block(X, 3, [256, 256, 1024])\n",
    "\n",
    "    # Stage 5 (≈3 lines)\n",
    "    # add `convolutional_block` with correct values of `f`, `filters` and `s` for this stage\n",
    "    X = convolutional_block(X, 3, [512, 512, 2048], 2)\n",
    "    \n",
    "    # the 2 `identity_block` with correct values of `f` and `filters` for this stage\n",
    "    X = identity_block(X, 3, [512, 512, 2048])\n",
    "    X = identity_block(X, 3, [512, 512, 2048])\n",
    "\n",
    "    # AVGPOOL (≈1 line). Use \"X = AveragePooling2D()(X)\"\n",
    "    X = tf.keras.layers.AveragePooling2D(pool_size=(2,2))(X)\n",
    "    \n",
    "    ### END CODE HERE\n",
    "\n",
    "    # output layer\n",
    "    X = tf.keras.layers.Flatten()(X)\n",
    "    X = tf.keras.layers.Dense(classes, activation='softmax', kernel_initializer = glorot_uniform(seed=0))(X)\n",
    "    \n",
    "    \n",
    "    # Create model\n",
    "    model = tf.keras.models.Model(inputs = X_input, outputs = X)\n",
    "\n",
    "    return model"
   ]
  },
  {
   "cell_type": "code",
   "execution_count": 21,
   "metadata": {},
   "outputs": [
    {
     "name": "stderr",
     "output_type": "stream",
     "text": [
      "c:\\Users\\Spino.shop\\Desktop\\Trading\\Apps\\.MotherVenv\\lib\\site-packages\\keras\\backend.py:452: UserWarning: `tf.keras.backend.set_learning_phase` is deprecated and will be removed after 2020-10-11. To update it, simply pass a True/False value to the `training` argument of the `__call__` method of your layer or model.\n",
      "  warnings.warn(\n"
     ]
    },
    {
     "name": "stdout",
     "output_type": "stream",
     "text": [
      "<bound method Model.summary of <keras.engine.functional.Functional object at 0x000001C37432E910>>\n"
     ]
    }
   ],
   "source": [
    "tf.keras.backend.set_learning_phase(True)\n",
    "model = ResNet50(input_shape = train_set_x_orig.shape[1:], classes = len(classes))\n",
    "print(model.summary)"
   ]
  },
  {
   "cell_type": "code",
   "execution_count": 22,
   "metadata": {},
   "outputs": [],
   "source": [
    "np.random.seed(1)\n",
    "tf.random.set_seed(2)\n",
    "optimizer = tf.keras.optimizers.Adam(learning_rate=0.00015)\n",
    "model.compile(optimizer = optimizer, loss = \"categorical_crossentropy\", metrics = [\"accuracy\"])"
   ]
  },
  {
   "cell_type": "code",
   "execution_count": 26,
   "metadata": {},
   "outputs": [
    {
     "name": "stdout",
     "output_type": "stream",
     "text": [
      "Epoch 1/13\n",
      "34/34 [==============================] - 34s 991ms/step - loss: 0.8950 - accuracy: 0.6713\n",
      "Epoch 2/13\n",
      "34/34 [==============================] - 41s 1s/step - loss: 0.4751 - accuracy: 0.8417\n",
      "Epoch 3/13\n",
      "34/34 [==============================] - 40s 1s/step - loss: 0.3354 - accuracy: 0.8917\n",
      "Epoch 4/13\n",
      "34/34 [==============================] - 41s 1s/step - loss: 0.2051 - accuracy: 0.9259\n",
      "Epoch 5/13\n",
      "34/34 [==============================] - 41s 1s/step - loss: 0.1966 - accuracy: 0.9333\n",
      "Epoch 6/13\n",
      "34/34 [==============================] - 40s 1s/step - loss: 0.1872 - accuracy: 0.9269\n",
      "Epoch 7/13\n",
      "34/34 [==============================] - 40s 1s/step - loss: 0.1047 - accuracy: 0.9657\n",
      "Epoch 8/13\n",
      "34/34 [==============================] - 40s 1s/step - loss: 0.1095 - accuracy: 0.9630\n",
      "Epoch 9/13\n",
      "34/34 [==============================] - 40s 1s/step - loss: 0.0948 - accuracy: 0.9657\n",
      "Epoch 10/13\n",
      "34/34 [==============================] - 41s 1s/step - loss: 0.0795 - accuracy: 0.9704\n",
      "Epoch 11/13\n",
      "34/34 [==============================] - 40s 1s/step - loss: 0.1125 - accuracy: 0.9602\n",
      "Epoch 12/13\n",
      "34/34 [==============================] - 40s 1s/step - loss: 0.0835 - accuracy: 0.9741\n",
      "Epoch 13/13\n",
      "34/34 [==============================] - 35s 1s/step - loss: 0.0977 - accuracy: 0.9694\n"
     ]
    },
    {
     "data": {
      "text/plain": [
       "<keras.callbacks.History at 0x1c32d07e880>"
      ]
     },
     "execution_count": 26,
     "metadata": {},
     "output_type": "execute_result"
    }
   ],
   "source": [
    "x_train = train_set_x_orig / 255.\n",
    "x_test = test_set_x_orig / 255.\n",
    "\n",
    "# Convert training and test labels to one hot matrices\n",
    "Y_train = convert_to_one_hot(train_set_y_orig, 6).T\n",
    "Y_test = convert_to_one_hot(test_set_y_orig, 6).T\n",
    "\n",
    "model.fit(x_train, Y_train, epochs = 13, batch_size = 32)"
   ]
  },
  {
   "cell_type": "code",
   "execution_count": 28,
   "metadata": {},
   "outputs": [
    {
     "name": "stdout",
     "output_type": "stream",
     "text": [
      "4/4 [==============================] - 1s 136ms/step - loss: 2.0872 - accuracy: 0.5833\n",
      "Loss = 2.0872182846069336\n",
      "Test Accuracy = 0.5833333134651184\n"
     ]
    }
   ],
   "source": [
    "preds = model.evaluate(x_test, Y_test)\n",
    "print (\"Loss = \" + str(preds[0]))\n",
    "print (\"Test Accuracy = \" + str(preds[1]))"
   ]
  },
  {
   "cell_type": "code",
   "execution_count": 29,
   "metadata": {},
   "outputs": [],
   "source": [
    "model.save_weights(\"./datasets/model_weights\")"
   ]
  },
  {
   "cell_type": "code",
   "execution_count": 33,
   "metadata": {},
   "outputs": [
    {
     "name": "stdout",
     "output_type": "stream",
     "text": [
      "Epoch 1/3\n",
      "34/34 [==============================] - 35s 1s/step - loss: 0.0846 - accuracy: 0.9676\n",
      "Epoch 2/3\n",
      "34/34 [==============================] - 36s 1s/step - loss: 0.0888 - accuracy: 0.9685\n",
      "Epoch 3/3\n",
      "34/34 [==============================] - 35s 1s/step - loss: 0.0877 - accuracy: 0.9722\n"
     ]
    },
    {
     "data": {
      "text/plain": [
       "<keras.callbacks.History at 0x1c301f32eb0>"
      ]
     },
     "execution_count": 33,
     "metadata": {},
     "output_type": "execute_result"
    }
   ],
   "source": [
    "model.load_weights(\"./datasets/model_weights\")\n",
    "model.fit(x_train, Y_train, epochs = 3, batch_size = 32)"
   ]
  },
  {
   "cell_type": "code",
   "execution_count": 34,
   "metadata": {},
   "outputs": [
    {
     "name": "stdout",
     "output_type": "stream",
     "text": [
      "4/4 [==============================] - 1s 126ms/step - loss: 1.3882 - accuracy: 0.6750\n",
      "Loss = 1.3882333040237427\n",
      "Test Accuracy = 0.675000011920929\n"
     ]
    }
   ],
   "source": [
    "preds = model.evaluate(x_test, Y_test)\n",
    "print (\"Loss = \" + str(preds[0]))\n",
    "print (\"Test Accuracy = \" + str(preds[1]))"
   ]
  }
 ],
 "metadata": {
  "kernelspec": {
   "display_name": ".MotherVenv",
   "language": "python",
   "name": "python3"
  },
  "language_info": {
   "codemirror_mode": {
    "name": "ipython",
    "version": 3
   },
   "file_extension": ".py",
   "mimetype": "text/x-python",
   "name": "python",
   "nbconvert_exporter": "python",
   "pygments_lexer": "ipython3",
   "version": "3.9.7"
  },
  "orig_nbformat": 4
 },
 "nbformat": 4,
 "nbformat_minor": 2
}
