{
 "cells": [
  {
   "cell_type": "code",
   "execution_count": 1,
   "metadata": {},
   "outputs": [],
   "source": [
    "import math, copy\n",
    "import numpy as np\n",
    "import matplotlib.pyplot as plt"
   ]
  },
  {
   "cell_type": "code",
   "execution_count": 2,
   "metadata": {},
   "outputs": [],
   "source": [
    "def compute_cost(x, y, w, b):\n",
    "    m = x.shape[0]\n",
    "    cost = 0\n",
    "\n",
    "    for i in range(m):\n",
    "        f = w *x[i] + b\n",
    "        cost = cost + (f - y[i])**2\n",
    "    \n",
    "    cost = cost / (2*m)\n",
    "    return cost"
   ]
  },
  {
   "cell_type": "code",
   "execution_count": 3,
   "metadata": {},
   "outputs": [],
   "source": [
    "def compute_grediant(x, y, w, b):\n",
    "    \"\"\"\n",
    "    Computes grediants for linear regression\n",
    "    Args:\n",
    "        x (ndarray (m,)): input data, m examples\n",
    "        y (ndarray (m,)): target values\n",
    "        w (float): coefficient of the linear model\n",
    "        b (float): bias (intersection) of the linear model\n",
    "    Returns:\n",
    "        dj_dw (float): gradient of the cost with respect to w\n",
    "        dj_db (float): gradient of the cost with respect to b\n",
    "    \"\"\"\n",
    "\n",
    "    m = x.shape[0]\n",
    "    dj_dw = 0\n",
    "    dj_db = 0\n",
    "\n",
    "    for i in range(m):\n",
    "        f = w * x[i] + b\n",
    "        dj_dw += (f - y[i])*x[i]\n",
    "        dj_db += (f - y[i])\n",
    "    \n",
    "    return dj_dw/m, dj_db/m"
   ]
  },
  {
   "cell_type": "code",
   "execution_count": 94,
   "metadata": {},
   "outputs": [],
   "source": [
    "def gradient_descent(x, y, w_in, b_in, alpha, num_iters, cost_functions, gradient_function):\n",
    "    \"\"\"\n",
    "    Performs gradient descent to fit w and b\n",
    "    \n",
    "    Args: \n",
    "        x (ndarray (m,)): input data, m examples\n",
    "        y (ndarray (m,)): target values\n",
    "        w_in (float): initial value of w\n",
    "        b_in (float): initial value of b\n",
    "        alpha (float): learning rate\n",
    "        num_iters (int): number of iterations to run the grediant descent\n",
    "        cost_functions (function): function to call for computing the cost\n",
    "        gradient_function (function): function to call for computing the gradient\n",
    "    Returns:\n",
    "        w (float): coefficient of the linear model\n",
    "        b (float): bias (intersection) of the linear model\n",
    "        J_history (list): history of cost values through the iterations\n",
    "        p_history (list): history [w,b] through the fitting procedure\n",
    "    \"\"\"\n",
    "\n",
    "    # The initial values of w and b\n",
    "    arr = np.array([w_in, b_in])\n",
    "    J_history = np.zeros((num_iters, 1))\n",
    "    p_history = np.zeros((num_iters, 2))\n",
    "\n",
    "    for i in range(num_iters):\n",
    "        gradiant = compute_grediant(x, y, arr[0], arr[1])\n",
    "        J_history[i] = compute_cost(x, y, arr[0], arr[1])\n",
    "        p_history[i] = gradiant\n",
    "        \n",
    "        arr = arr - alpha * np.array(gradiant)\n",
    "\n",
    "        # The convergance criterion\n",
    "        if False:\n",
    "            break\n",
    "    return arr[0], arr[1], J_history, p_history"
   ]
  },
  {
   "cell_type": "code",
   "execution_count": 96,
   "metadata": {},
   "outputs": [],
   "source": [
    "xTrain = np.array([1, 2])\n",
    "yTrain = np.array([300, 500])\n",
    "\n",
    "[w, b, jHist, pHist] = gradient_descent(xTrain, yTrain, 0, 0, 0.1, 1000, compute_cost, compute_grediant)"
   ]
  },
  {
   "cell_type": "code",
   "execution_count": 114,
   "metadata": {},
   "outputs": [
    {
     "data": {
      "image/png": "[encoded data removed]",
      "text/plain": [
       "<Figure size 432x288 with 1 Axes>"
      ]
     },
     "metadata": {
      "needs_background": "light"
     },
     "output_type": "display_data"
    }
   ],
   "source": [
    "plt.plot(pHist[:,1])\n",
    "plt.show()"
   ]
  }
 ],
 "metadata": {
  "kernelspec": {
   "display_name": ".MotherVenv",
   "language": "python",
   "name": "python3"
  },
  "language_info": {
   "codemirror_mode": {
    "name": "ipython",
    "version": 3
   },
   "file_extension": ".py",
   "mimetype": "text/x-python",
   "name": "python",
   "nbconvert_exporter": "python",
   "pygments_lexer": "ipython3",
   "version": "3.9.7"
  },
  "orig_nbformat": 4
 },
 "nbformat": 4,
 "nbformat_minor": 2
}
