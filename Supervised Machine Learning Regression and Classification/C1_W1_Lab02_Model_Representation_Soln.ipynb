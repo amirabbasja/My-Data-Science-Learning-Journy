{
 "cells": [
  {
   "cell_type": "code",
   "execution_count": 18,
   "metadata": {},
   "outputs": [],
   "source": [
    "import numpy as np\n",
    "import pandas as pd\n",
    "from sklearn.linear_model import LinearRegression\n",
    "import matplotlib.pylab as plt"
   ]
  },
  {
   "cell_type": "code",
   "execution_count": 38,
   "metadata": {},
   "outputs": [],
   "source": [
    "def compute_model_output(x, w, b):\n",
    "    m = x.shape[0]\n",
    "    f_wb = np.zeros(m)\n",
    "    for i in range(m):\n",
    "        f_wb[i] = w * x[i] + b\n",
    "\n",
    "    return f_wb"
   ]
  },
  {
   "cell_type": "code",
   "execution_count": 29,
   "metadata": {},
   "outputs": [
    {
     "name": "stdout",
     "output_type": "stream",
     "text": [
      "xTrain: [[1]\n",
      " [2]]\n",
      "yTrain: [300 500]\n",
      "Number of training data: 2\n",
      "reg.coef_: 200.0\n",
      "reg.intercept_: 100.0\n"
     ]
    }
   ],
   "source": [
    "xTrain = np.array([[1], [2]])\n",
    "yTrain = np.array([300, 500])\n",
    "\n",
    "print(f\"xTrain: {xTrain}\")\n",
    "print(f\"yTrain: {yTrain}\")\n",
    "print(f\"Number of training data: {xTrain.shape[0]}\")    # shape[0] is the number of rows\n",
    "\n",
    "reg = LinearRegression().fit(xTrain, yTrain)\n",
    "print(f\"reg.coef_: {np.round(reg.coef_[0])}\")\n",
    "print(f\"reg.intercept_: {np.round(reg.intercept_)}\")\n",
    "\n"
   ]
  },
  {
   "cell_type": "code",
   "execution_count": 39,
   "metadata": {},
   "outputs": [],
   "source": [
    "xPred = np.arange(xTrain.min(), xTrain.max(), 0.01)\n",
    "yPred = compute_model_output(xPred, np.round(reg.coef_[0]), np.round(reg.intercept_))"
   ]
  },
  {
   "cell_type": "code",
   "execution_count": 40,
   "metadata": {},
   "outputs": [
    {
     "data": {
      "image/png": "[encoded data removed]",
      "text/plain": [
       "<Figure size 432x288 with 1 Axes>"
      ]
     },
     "metadata": {
      "needs_background": "light"
     },
     "output_type": "display_data"
    }
   ],
   "source": [
    "plt.scatter(xTrain, yTrain, color='black')\n",
    "plt.plot(xPred, yPred, color='blue', linewidth=3)\n",
    "plt.show()"
   ]
  }
 ],
 "metadata": {
  "kernelspec": {
   "display_name": ".MotherVenv",
   "language": "python",
   "name": "python3"
  },
  "language_info": {
   "codemirror_mode": {
    "name": "ipython",
    "version": 3
   },
   "file_extension": ".py",
   "mimetype": "text/x-python",
   "name": "python",
   "nbconvert_exporter": "python",
   "pygments_lexer": "ipython3",
   "version": "3.9.7"
  },
  "orig_nbformat": 4
 },
 "nbformat": 4,
 "nbformat_minor": 2
}
