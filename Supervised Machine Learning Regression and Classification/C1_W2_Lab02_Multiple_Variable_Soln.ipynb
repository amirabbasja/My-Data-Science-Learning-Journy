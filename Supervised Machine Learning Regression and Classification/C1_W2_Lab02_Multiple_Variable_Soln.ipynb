{
 "cells": [
  {
   "cell_type": "code",
   "execution_count": 1,
   "metadata": {},
   "outputs": [],
   "source": [
    "import numpy as np\n",
    "import matplotlib.pyplot as plt\n",
    "import copy, math"
   ]
  },
  {
   "cell_type": "code",
   "execution_count": 2,
   "metadata": {},
   "outputs": [
    {
     "name": "stdout",
     "output_type": "stream",
     "text": [
      "Train data size for x: (3, 4)\n",
      "[[2104    5    1   45]\n",
      " [1416    3    2   40]\n",
      " [ 852    2    1   35]]\n",
      "\n",
      "\n",
      "Train data size for y: (3,)\n",
      "[460 232 178]\n"
     ]
    }
   ],
   "source": [
    "xTrain = np.array([\n",
    "    [2104, 5, 1, 45],\n",
    "    [1416, 3, 2, 40],\n",
    "    [852, 2, 1, 35]\n",
    "])\n",
    "yTrain = np.array([460, 232, 178])\n",
    "print(f\"Train data size for x: {xTrain.shape}\")\n",
    "print(xTrain)\n",
    "print(f\"\\n\\nTrain data size for y: {yTrain.shape}\")\n",
    "print(yTrain)"
   ]
  },
  {
   "cell_type": "code",
   "execution_count": 3,
   "metadata": {},
   "outputs": [],
   "source": [
    "# Initializing the b and w parameters\n",
    "b_init = np.zeros(xTrain.shape[1])\n",
    "w_init = np.zeros(xTrain.shape[1])"
   ]
  },
  {
   "cell_type": "code",
   "execution_count": 4,
   "metadata": {},
   "outputs": [],
   "source": [
    "def predict(x, w, b):\n",
    "    \"\"\"\n",
    "    Predict the output for the given input x.\n",
    "    Args:\n",
    "        x(ndarray): The input data\n",
    "        w(ndarray): The weight vector\n",
    "        b(float): The bias value\n",
    "    Returns:\n",
    "        ndarray: The predicted output\n",
    "    \"\"\"\n",
    "    return np.dot(x, w) + b"
   ]
  },
  {
   "cell_type": "code",
   "execution_count": 5,
   "metadata": {},
   "outputs": [],
   "source": [
    "def compute_cost(x, y, w, b):\n",
    "    \"\"\"\n",
    "    Compute cost for a set of input values\n",
    "    Args:\n",
    "        x(ndarray): The input data\n",
    "        y(ndarray): The actual output\n",
    "        w(ndarray): The weight vector\n",
    "        b(float): The bias value\n",
    "    Returns:\n",
    "        float: The computed cost\n",
    "    \"\"\"\n",
    "\n",
    "    n = x.shape[0]\n",
    "    cost_ = 0\n",
    "    for i in range(n):\n",
    "        cost_ += (predict(x[i], w, b) - y[i])**2\n",
    "    \n",
    "    return cost_/(2*n)"
   ]
  },
  {
   "cell_type": "code",
   "execution_count": 6,
   "metadata": {},
   "outputs": [],
   "source": [
    "def compute_gradient(X, y, w, b):\n",
    "    \"\"\"\n",
    "    Compute the gradint of the cost function with respect to w and b.\n",
    "    Args:\n",
    "        X(ndarray): The input data matrix\n",
    "        y(ndarray): The target output\n",
    "        w(ndarray): The weight vector\n",
    "        b(float): The bias value\n",
    "    Returns:\n",
    "        dJdwi(ndarray): The gradient of the cost function with respect to w\n",
    "        dJdb(float): The gradient of the cost function with respect to b\n",
    "    \"\"\"\n",
    "    m,n = X.shape\n",
    "    dJdwi = np.zeros(n)\n",
    "    dJdb = 0\n",
    "\n",
    "    for i in range(m):\n",
    "        dJdb += (predict(X[i,:], w, b) - y[i])  \n",
    "        for j in range(n):\n",
    "            dJdwi[j] += X[i,j] * (predict(X[i,:], w, b) - y[i])\n",
    "\n",
    "    \n",
    "    return dJdb/m,dJdwi/m"
   ]
  },
  {
   "cell_type": "code",
   "execution_count": 7,
   "metadata": {},
   "outputs": [],
   "source": [
    "def gradient_descent(X, y, wInit, bInit, alpha, costFcn, gradientFcn, numIters):\n",
    "    \"\"\"\n",
    "    Perform gradient descent to minimize the cost function.\n",
    "    Args:\n",
    "        X(ndarray): The input data matrix\n",
    "        y(ndarray): The target output\n",
    "        wInit(ndarray): The initial weight vector\n",
    "        bInit(float): The initial bias value\n",
    "        alpha(float): The learning rate\n",
    "        costFcn(function): The cost function\n",
    "        gradientFcn(function): The gradient function\n",
    "        numIters(int): The number of iterations\n",
    "    Returns:\n",
    "        w(ndarray): The optimized weight vector\n",
    "        b(float): The optimized bias value\n",
    "        costHistory(list): The history of cost values\n",
    "    \"\"\"\n",
    "    w = wInit\n",
    "    b = bInit\n",
    "    costHistory = np.zeros(numIters)\n",
    "    for i in range(numIters):\n",
    "        dJdb, dJdw = compute_gradient(X, y, w, b)\n",
    "        w = w - alpha * dJdw\n",
    "        b = b - alpha * dJdb\n",
    "        costHistory[i] = compute_cost(X, y, w, b)\n",
    "    return w, b, costHistory"
   ]
  },
  {
   "cell_type": "code",
   "execution_count": 8,
   "metadata": {},
   "outputs": [
    {
     "name": "stdout",
     "output_type": "stream",
     "text": [
      "w: [ 0.24224154  0.28821169 -0.85520022 -1.57622854]\n",
      "b: -0.041685017649388985\n"
     ]
    }
   ],
   "source": [
    "# initialize parameters\n",
    "initial_w = np.zeros_like(w_init)\n",
    "initial_b = 0.\n",
    "# some gradient descent settings\n",
    "iterations = 100000\n",
    "alpha = 5.0e-7\n",
    "w, b, costHist = gradient_descent(xTrain, yTrain, initial_w, initial_b, alpha, compute_cost, compute_gradient, iterations)\n",
    "print(f\"w: {w}\\nb: {b}\")"
   ]
  },
  {
   "cell_type": "code",
   "execution_count": 9,
   "metadata": {},
   "outputs": [
    {
     "data": {
      "image/png": "[encoded data removed]",
      "text/plain": [
       "<Figure size 432x288 with 1 Axes>"
      ]
     },
     "metadata": {
      "needs_background": "light"
     },
     "output_type": "display_data"
    }
   ],
   "source": [
    "plt.plot(costHist[3:])\n",
    "plt.show()"
   ]
  }
 ],
 "metadata": {
  "kernelspec": {
   "display_name": ".MotherVenv",
   "language": "python",
   "name": "python3"
  },
  "language_info": {
   "codemirror_mode": {
    "name": "ipython",
    "version": 3
   },
   "file_extension": ".py",
   "mimetype": "text/x-python",
   "name": "python",
   "nbconvert_exporter": "python",
   "pygments_lexer": "ipython3",
   "version": "3.9.7"
  },
  "orig_nbformat": 4
 },
 "nbformat": 4,
 "nbformat_minor": 2
}
