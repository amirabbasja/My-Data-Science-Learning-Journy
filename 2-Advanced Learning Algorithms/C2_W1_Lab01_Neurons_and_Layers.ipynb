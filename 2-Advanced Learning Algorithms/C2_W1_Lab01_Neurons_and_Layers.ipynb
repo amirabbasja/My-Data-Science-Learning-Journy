{
 "cells": [
  {
   "cell_type": "code",
   "execution_count": 1,
   "metadata": {},
   "outputs": [],
   "source": [
    "import numpy as np\n",
    "import matplotlib.pyplot as plt\n",
    "import tensorflow as tf\n",
    "from tensorflow.keras.layers import Dense, Input\n",
    "from tensorflow.keras import Sequential\n",
    "from tensorflow.keras.losses import MeanSquaredError, BinaryCrossentropy\n",
    "from tensorflow.keras.activations import sigmoid"
   ]
  },
  {
   "cell_type": "code",
   "execution_count": 17,
   "metadata": {},
   "outputs": [
    {
     "data": {
      "image/png": "[encoded data removed]",
      "text/plain": [
       "<Figure size 432x288 with 1 Axes>"
      ]
     },
     "metadata": {
      "needs_background": "light"
     },
     "output_type": "display_data"
    }
   ],
   "source": [
    "xTrain = np.array([[1.],[2.]], dtype=np.float32)\n",
    "yTrain = np.array([[300.],[500.]], dtype=np.float32)\n",
    "\n",
    "fig, ax = plt.subplots(1,1)\n",
    "ax.scatter(xTrain, yTrain, label=\"Data points\")\n",
    "ax.legend()\n",
    "ax.set_ylabel(\"Price\")\n",
    "ax.set_xlabel(\"size(100sq ft)\")\n",
    "\n",
    "\n",
    "plt.show()"
   ]
  },
  {
   "cell_type": "code",
   "execution_count": 32,
   "metadata": {},
   "outputs": [],
   "source": [
    "# Adding a single layer\n",
    "linearLayer = tf.keras.layers.Dense(units = 1, activation = \"linear\")\n",
    "linearLayer.get_weights()\n",
    "a1 = linearLayer(xTrain[0].reshape(1,1))"
   ]
  },
  {
   "cell_type": "code",
   "execution_count": 35,
   "metadata": {},
   "outputs": [
    {
     "name": "stdout",
     "output_type": "stream",
     "text": [
      "w = [[200.]], b=[100.]\n"
     ]
    }
   ],
   "source": [
    "w, b = linearLayer.get_weights()\n",
    "print(f\"w = {w}, b={b}\")"
   ]
  },
  {
   "cell_type": "code",
   "execution_count": 42,
   "metadata": {},
   "outputs": [
    {
     "name": "stdout",
     "output_type": "stream",
     "text": [
      "[array([[200.]], dtype=float32), array([100.], dtype=float32)]\n",
      "tf.Tensor([[300.]], shape=(1, 1), dtype=float32)\n",
      "[[300.]]\n"
     ]
    }
   ],
   "source": [
    "set_w = np.array([[200]])\n",
    "set_b = np.array([100])\n",
    "\n",
    "linearLayer.set_weights([set_w, set_b])\n",
    "print(linearLayer.get_weights())\n",
    "\n",
    "# Checking the linear activation results generated by tensorflow\n",
    "a1 = linearLayer(xTrain[0].reshape(1,1))\n",
    "print(a1)\n",
    "print(np.dot(set_w, xTrain[0].reshape(1,1))+set_b)\n",
    "\n",
    "# Using the NN to predict\n",
    "predictionTf = linearLayer(xTrain)\n",
    "predictionTf = np.dot( xTrain, set_w) + set_b"
   ]
  },
  {
   "cell_type": "code",
   "execution_count": 49,
   "metadata": {},
   "outputs": [
    {
     "data": {
      "image/png": "[encoded data removed]",
      "text/plain": [
       "<Figure size 432x288 with 1 Axes>"
      ]
     },
     "metadata": {
      "needs_background": "light"
     },
     "output_type": "display_data"
    }
   ],
   "source": [
    "plt.scatter(xTrain, yTrain, label=\"Training Data\")\n",
    "plt.plot(xTrain, predictionTf, \"r\", label = \"Prediction\")\n",
    "plt.legend()\n",
    "plt.show()"
   ]
  },
  {
   "cell_type": "code",
   "execution_count": 71,
   "metadata": {},
   "outputs": [
    {
     "data": {
      "image/png": "[encoded data removed]",
      "text/plain": [
       "<Figure size 432x288 with 1 Axes>"
      ]
     },
     "metadata": {
      "needs_background": "light"
     },
     "output_type": "display_data"
    }
   ],
   "source": [
    "xTrain = np.array([0, 1, 2, 3, 4, 5], dtype=np.float32).reshape(-1,1)\n",
    "yTrain = np.array([0, 0, 0, 1, 1, 1], dtype=np.float32).reshape(-1,1)\n",
    "\n",
    "pos = yTrain == 1\n",
    "neg = yTrain == 0\n",
    "\n",
    "# Display the positive numbers\n",
    "xTrain[pos]\n",
    "\n",
    "fix, ax = plt.subplots(1,1)\n",
    "ax.scatter(xTrain[pos], yTrain[pos], c = \"b\", marker = \"X\", s = 80, label = \"y1\")\n",
    "ax.scatter(xTrain[neg], yTrain[neg], c = \"r\", marker = \"o\", s = 100, label = \"y2\")\n",
    "\n",
    "ax.set_ylim(-0.08,1.1)\n",
    "ax.set_ylabel('y', fontsize=12)\n",
    "ax.set_xlabel('x', fontsize=12)\n",
    "ax.set_title('one variable plot')\n",
    "ax.legend(fontsize=12)\n",
    "plt.show()"
   ]
  },
  {
   "cell_type": "code",
   "execution_count": 72,
   "metadata": {},
   "outputs": [
    {
     "name": "stdout",
     "output_type": "stream",
     "text": [
      "Model: \"sequential\"\n",
      "_________________________________________________________________\n",
      " Layer (type)                Output Shape              Param #   \n",
      "=================================================================\n",
      " L1 (Dense)                  (None, 1)                 2         \n",
      "                                                                 \n",
      "=================================================================\n",
      "Total params: 2\n",
      "Trainable params: 2\n",
      "Non-trainable params: 0\n",
      "_________________________________________________________________\n"
     ]
    }
   ],
   "source": [
    "model = Sequential(\n",
    "    [\n",
    "        tf.keras.layers.Dense(units=1, input_dim = 1, activation = \"sigmoid\", name = \"L1\")\n",
    "    ]\n",
    ")\n",
    "\n",
    "model.summary()"
   ]
  },
  {
   "cell_type": "code",
   "execution_count": 79,
   "metadata": {},
   "outputs": [
    {
     "name": "stdout",
     "output_type": "stream",
     "text": [
      "[[-0.7821212]] [0.]\n",
      "(1, 1) (1,)\n",
      "[array([[2.]], dtype=float32), array([-4.5], dtype=float32)]\n"
     ]
    }
   ],
   "source": [
    "logisticLayer = model.get_layer(\"L1\")\n",
    "w,b = logisticLayer.get_weights()\n",
    "print(w,b)\n",
    "print(w.shape,b.shape)\n",
    "\n",
    "set_w = np.array([[2]])\n",
    "set_b = np.array([-4.5])\n",
    "\n",
    "logisticLayer.set_weights([set_w, set_b])\n",
    "print(logisticLayer.get_weights())"
   ]
  },
  {
   "cell_type": "code",
   "execution_count": 83,
   "metadata": {},
   "outputs": [
    {
     "name": "stdout",
     "output_type": "stream",
     "text": [
      "1/1 [==============================] - 0s 16ms/step\n",
      "[[0.01098694]]\n",
      "[0.01098694]\n"
     ]
    }
   ],
   "source": [
    "a1 = model.predict(xTrain[0].reshape(-1,1))\n",
    "print(a1)\n",
    "alog = 1/(1+np.exp(-(np.dot(set_w, xTrain[0])+set_b)))\n",
    "print(alog)"
   ]
  }
 ],
 "metadata": {
  "kernelspec": {
   "display_name": ".MotherVenv",
   "language": "python",
   "name": "python3"
  },
  "language_info": {
   "codemirror_mode": {
    "name": "ipython",
    "version": 3
   },
   "file_extension": ".py",
   "mimetype": "text/x-python",
   "name": "python",
   "nbconvert_exporter": "python",
   "pygments_lexer": "ipython3",
   "version": "3.9.7"
  },
  "orig_nbformat": 4
 },
 "nbformat": 4,
 "nbformat_minor": 2
}
