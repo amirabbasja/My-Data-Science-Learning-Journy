{
 "cells": [
  {
   "cell_type": "code",
   "execution_count": 1,
   "metadata": {},
   "outputs": [],
   "source": [
    "import numpy as np\n",
    "import tensorflow as tf\n",
    "from tensorflow.keras.models import Sequential\n",
    "from tensorflow.keras.layers import Dense\n",
    "import matplotlib.pyplot as plt"
   ]
  },
  {
   "cell_type": "code",
   "execution_count": 2,
   "metadata": {},
   "outputs": [],
   "source": [
    "def load_coffee_data():\n",
    "    \"\"\" Creates a coffee roasting data set.\n",
    "        roasting duration: 12-15 minutes is best\n",
    "        temperature range: 175-260C is best\n",
    "    \"\"\"\n",
    "    rng = np.random.default_rng(2)\n",
    "    X = rng.random(400).reshape(-1,2)\n",
    "    X[:,1] = X[:,1] * 4 + 11.5          # 12-15 min is best\n",
    "    X[:,0] = X[:,0] * (285-150) + 150  # 350-500 F (175-260 C) is best\n",
    "    Y = np.zeros(len(X))\n",
    "    \n",
    "    i=0\n",
    "    for t,d in X:\n",
    "        y = -3/(260-175)*t + 21\n",
    "        if (t > 175 and t < 260 and d > 12 and d < 15 and d<=y ):\n",
    "            Y[i] = 1\n",
    "        else:\n",
    "            Y[i] = 0\n",
    "        i += 1\n",
    "\n",
    "    return (X, Y.reshape(-1,1))"
   ]
  },
  {
   "cell_type": "code",
   "execution_count": 3,
   "metadata": {},
   "outputs": [
    {
     "data": {
      "image/png": "[encoded data removed]",
      "text/plain": [
       "<Figure size 432x288 with 1 Axes>"
      ]
     },
     "metadata": {
      "needs_background": "light"
     },
     "output_type": "display_data"
    }
   ],
   "source": [
    "x, y = load_coffee_data()\n",
    "pos = y == 1\n",
    "neg = y == 0\n",
    "\n",
    "\n",
    "good_1 = x[:,0].reshape((-1,1))[pos]\n",
    "good_2 = x[:,1].reshape((-1,1))[pos]\n",
    "good_X = np.vstack([good_1, good_2])\n",
    "good_X = good_X.transpose()\n",
    "\n",
    "bad_1 = x[:,0].reshape((-1,1))[neg]\n",
    "bad_2 = x[:,1].reshape((-1,1))[neg]\n",
    "bad_X = np.vstack([bad_1, bad_2])\n",
    "bad_X = bad_X.transpose()\n",
    "\n",
    "fig, ax = plt.subplots()\n",
    "ax.scatter(bad_X[:,0], bad_X[:,1], label = \"Bad roast\", c = \"red\", s = 6)\n",
    "ax.scatter(good_X[:,0], good_X[:,1], label = \"Good roast\", c = \"blue\", s = 6)\n",
    "plt.show()"
   ]
  },
  {
   "cell_type": "code",
   "execution_count": 4,
   "metadata": {},
   "outputs": [
    {
     "name": "stdout",
     "output_type": "stream",
     "text": [
      "(200000, 2) (200000, 1)\n"
     ]
    }
   ],
   "source": [
    "# Creting a normalization layer\n",
    "normLayer = tf.keras.layers.Normalization(axis = -1)\n",
    "normLayer.adapt(x)\n",
    "xNorm = normLayer(x)\n",
    "\n",
    "# Tile the data\n",
    "Xt = np.tile(xNorm,(1000,1))\n",
    "Yt= np.tile(y,(1000,1))   \n",
    "print(Xt.shape, Yt.shape)"
   ]
  },
  {
   "cell_type": "code",
   "execution_count": 5,
   "metadata": {},
   "outputs": [
    {
     "name": "stdout",
     "output_type": "stream",
     "text": [
      "Model: \"sequential\"\n",
      "_________________________________________________________________\n",
      " Layer (type)                Output Shape              Param #   \n",
      "=================================================================\n",
      " layer1 (Dense)              (None, 3)                 9         \n",
      "                                                                 \n",
      " layer2 (Dense)              (None, 1)                 4         \n",
      "                                                                 \n",
      "=================================================================\n",
      "Total params: 13\n",
      "Trainable params: 13\n",
      "Non-trainable params: 0\n",
      "_________________________________________________________________\n",
      "Epoch 1/10\n",
      "6250/6250 [==============================] - 6s 896us/step - loss: 0.2043\n",
      "Epoch 2/10\n",
      "6250/6250 [==============================] - 6s 882us/step - loss: 0.0886\n",
      "Epoch 3/10\n",
      "6250/6250 [==============================] - 5s 824us/step - loss: 0.0221\n",
      "Epoch 4/10\n",
      "6250/6250 [==============================] - 5s 791us/step - loss: 0.0129\n",
      "Epoch 5/10\n",
      "6250/6250 [==============================] - 5s 822us/step - loss: 0.0088\n",
      "Epoch 6/10\n",
      "6250/6250 [==============================] - 5s 819us/step - loss: 0.0063\n",
      "Epoch 7/10\n",
      "6250/6250 [==============================] - 5s 850us/step - loss: 0.0045\n",
      "Epoch 8/10\n",
      "6250/6250 [==============================] - 6s 894us/step - loss: 0.0032\n",
      "Epoch 9/10\n",
      "6250/6250 [==============================] - 5s 832us/step - loss: 0.0024\n",
      "Epoch 10/10\n",
      "6250/6250 [==============================] - 5s 772us/step - loss: 0.0018\n"
     ]
    },
    {
     "data": {
      "text/plain": [
       "<keras.callbacks.History at 0x209da874ee0>"
      ]
     },
     "execution_count": 5,
     "metadata": {},
     "output_type": "execute_result"
    }
   ],
   "source": [
    "tf.random.set_seed(1234)  # applied to achieve consistent results\n",
    "model = tf.keras.models.Sequential(\n",
    "    [\n",
    "        tf.keras.Input(shape=(2,)),\n",
    "        tf.keras.layers.Dense(units=3, activation=\"sigmoid\", name = \"layer1\"),\n",
    "        tf.keras.layers.Dense(units=1, activation=\"sigmoid\", name = \"layer2\")\n",
    "    ]\n",
    ")\n",
    "\n",
    "model.summary()\n",
    "\n",
    "model.compile(\n",
    "    loss = tf.keras.losses.BinaryCrossentropy(),\n",
    "    optimizer = tf.keras.optimizers.Adam(learning_rate=0.01),\n",
    ")\n",
    "\n",
    "model.fit(\n",
    "    Xt,Yt,            \n",
    "    epochs=10,\n",
    ")"
   ]
  },
  {
   "cell_type": "code",
   "execution_count": 7,
   "metadata": {},
   "outputs": [
    {
     "name": "stdout",
     "output_type": "stream",
     "text": [
      "W1:\n",
      " [[ -0.11243525  14.880138   -10.980034  ]\n",
      " [ -9.095663    12.334794    -0.2584009 ]] \n",
      "b1: [-11.38634     1.9326813 -11.93876  ]\n",
      "W2:\n",
      " [[-47.369175]\n",
      " [-42.61146 ]\n",
      " [-51.368244]] \n",
      "b2: [27.169247]\n"
     ]
    }
   ],
   "source": [
    "W1, b1 = model.get_layer(\"layer1\").get_weights()\n",
    "W2, b2 = model.get_layer(\"layer2\").get_weights()\n",
    "print(\"W1:\\n\", W1, \"\\nb1:\", b1)\n",
    "print(\"W2:\\n\", W2, \"\\nb2:\", b2)\n",
    "\n",
    "\n",
    "W1 = np.array([\n",
    "    [-8.94,  0.29, 12.89],\n",
    "    [-0.17, -7.34, 10.79]] )\n",
    "b1 = np.array([-9.87, -9.28,  1.01])\n",
    "W2 = np.array([\n",
    "    [-31.38],\n",
    "    [-27.86],\n",
    "    [-32.79]])\n",
    "b2 = np.array([15.54])\n",
    "model.get_layer(\"layer1\").set_weights([W1,b1])\n",
    "model.get_layer(\"layer2\").set_weights([W2,b2])"
   ]
  },
  {
   "cell_type": "code",
   "execution_count": 24,
   "metadata": {},
   "outputs": [
    {
     "name": "stdout",
     "output_type": "stream",
     "text": [
      "1/1 [==============================] - 0s 23ms/step\n",
      "Predictions: \n",
      " [[9.9999970e-01]\n",
      " [9.9999946e-01]\n",
      " [3.2241498e-08]]\n",
      "\n",
      "\n",
      "x : Bad roast prediction\n",
      "+ : Good roast prediction\n"
     ]
    },
    {
     "data": {
      "image/png": "[encoded data removed]",
      "text/plain": [
       "<Figure size 432x288 with 1 Axes>"
      ]
     },
     "metadata": {
      "needs_background": "light"
     },
     "output_type": "display_data"
    }
   ],
   "source": [
    "# Testing the results\n",
    "xTest = np.array([\n",
    "    [200, 13.5],\n",
    "    [220, 12.5],\n",
    "    [240,15]\n",
    "])\n",
    "\n",
    "nTestNorm = normLayer(xTest)\n",
    "predictions = model.predict(nTestNorm)\n",
    "\n",
    "print(f\"Predictions: \\n\", predictions)\n",
    "\n",
    "fig, ax = plt.subplots()\n",
    "ax.scatter(bad_X[:,0], bad_X[:,1], label = \"Bad roast\", c = \"red\", s = 6)\n",
    "ax.scatter(good_X[:,0], good_X[:,1], label = \"Good roast\", c = \"blue\", s = 6)\n",
    "\n",
    "print(\"\\n\\nx : Bad roast prediction\\n+ : Good roast prediction\")\n",
    "\n",
    "for i in range(xTest.shape[0]):\n",
    "    if predictions[i] <= 0.5:\n",
    "        mark = \"x\"\n",
    "    else:\n",
    "        mark = \"+\"\n",
    "\n",
    "    ax.scatter(xTest[i,0], xTest[i,1], label = \"Test\", c = \"black\", s = 300, marker = mark)\n",
    "\n",
    "plt.show()"
   ]
  }
 ],
 "metadata": {
  "kernelspec": {
   "display_name": ".MotherVenv",
   "language": "python",
   "name": "python3"
  },
  "language_info": {
   "codemirror_mode": {
    "name": "ipython",
    "version": 3
   },
   "file_extension": ".py",
   "mimetype": "text/x-python",
   "name": "python",
   "nbconvert_exporter": "python",
   "pygments_lexer": "ipython3",
   "version": "3.9.7"
  },
  "orig_nbformat": 4
 },
 "nbformat": 4,
 "nbformat_minor": 2
}
