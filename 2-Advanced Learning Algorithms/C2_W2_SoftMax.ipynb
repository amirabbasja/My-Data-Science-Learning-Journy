{
 "cells": [
  {
   "cell_type": "code",
   "execution_count": 41,
   "metadata": {},
   "outputs": [],
   "source": [
    "import numpy as np\n",
    "import tensorflow as tf\n",
    "import sklearn\n",
    "from sklearn.datasets import make_blobs\n",
    "import matplotlib.pyplot as plt"
   ]
  },
  {
   "cell_type": "code",
   "execution_count": 31,
   "metadata": {},
   "outputs": [
    {
     "data": {
      "image/png": "[encoded data removed]",
      "text/plain": [
       "<Figure size 432x288 with 1 Axes>"
      ]
     },
     "metadata": {
      "needs_background": "light"
     },
     "output_type": "display_data"
    }
   ],
   "source": [
    "# Make an example dataset\n",
    "centers = [[-5, 2], [-2, -2], [1, 2], [5, -2]]\n",
    "X_train, y_train = sklearn.datasets.make_blobs(n_samples=2000, centers=centers, cluster_std=1.0,random_state=30)\n",
    "\n",
    "# Plotting the example points with different colors\n",
    "cat1 = y_train == 0\n",
    "xCat1 = X_train[cat1]\n",
    "for i in range(xCat1.shape[0]):\n",
    "    plt.scatter(xCat1[i,0], xCat1[i,1], c = \"blue\", s=2)\n",
    "\n",
    "cat1 = y_train == 1\n",
    "xCat1 = X_train[cat1]\n",
    "for i in range(xCat1.shape[0]):\n",
    "    plt.scatter(xCat1[i,0], xCat1[i,1], c = \"red\", s=2)\n",
    "\n",
    "cat1 = y_train == 2\n",
    "xCat1 = X_train[cat1]\n",
    "for i in range(xCat1.shape[0]):\n",
    "    plt.scatter(xCat1[i,0], xCat1[i,1], c = \"black\", s=2)\n",
    "\n",
    "cat1 = y_train == 3\n",
    "xCat1 = X_train[cat1]\n",
    "for i in range(xCat1.shape[0]):\n",
    "    plt.scatter(xCat1[i,0], xCat1[i,1], c = \"green\", s=2)\n"
   ]
  },
  {
   "cell_type": "code",
   "execution_count": 34,
   "metadata": {},
   "outputs": [
    {
     "name": "stdout",
     "output_type": "stream",
     "text": [
      "Epoch 1/10\n",
      "63/63 [==============================] - 1s 997us/step - loss: 0.9122\n",
      "Epoch 2/10\n",
      "63/63 [==============================] - 0s 938us/step - loss: 0.3432\n",
      "Epoch 3/10\n",
      "63/63 [==============================] - 0s 1ms/step - loss: 0.1750\n",
      "Epoch 4/10\n",
      "63/63 [==============================] - 0s 960us/step - loss: 0.1088\n",
      "Epoch 5/10\n",
      "63/63 [==============================] - 0s 1ms/step - loss: 0.0775\n",
      "Epoch 6/10\n",
      "63/63 [==============================] - 0s 1ms/step - loss: 0.0606\n",
      "Epoch 7/10\n",
      "63/63 [==============================] - 0s 1ms/step - loss: 0.0517\n",
      "Epoch 8/10\n",
      "63/63 [==============================] - 0s 1ms/step - loss: 0.0453\n",
      "Epoch 9/10\n",
      "63/63 [==============================] - 0s 968us/step - loss: 0.0414\n",
      "Epoch 10/10\n",
      "63/63 [==============================] - 0s 984us/step - loss: 0.0380\n"
     ]
    },
    {
     "data": {
      "text/plain": [
       "<keras.callbacks.History at 0x2da44df0490>"
      ]
     },
     "execution_count": 34,
     "metadata": {},
     "output_type": "execute_result"
    }
   ],
   "source": [
    "model = tf.keras.models.Sequential(\n",
    "    [\n",
    "        tf.keras.layers.Dense(units=25, activation=\"relu\"),\n",
    "        tf.keras.layers.Dense(units=15, activation=\"relu\"),\n",
    "        tf.keras.layers.Dense(units=4, activation=\"softmax\") # < The No of the units should be equal to categories\n",
    "    ]\n",
    ")\n",
    "\n",
    "model.compile(\n",
    "    loss = tf.keras.losses.SparseCategoricalCrossentropy(),\n",
    "    optimizer = tf.keras.optimizers.Adam(0.001)\n",
    ")\n",
    "\n",
    "model.fit(\n",
    "    X_train, y_train, epochs = 10\n",
    ")"
   ]
  },
  {
   "cell_type": "code",
   "execution_count": 48,
   "metadata": {},
   "outputs": [
    {
     "name": "stdout",
     "output_type": "stream",
     "text": [
      "1/1 [==============================] - 0s 21ms/step\n",
      "[[1.0392922e-04 9.9940324e-01 2.8210666e-04 2.1075080e-04]]\n",
      "63/63 [==============================] - 0s 1ms/step\n",
      "[8.3100761e-04 3.2174238e-03 9.7257262e-01 2.3378873e-02], category: 2\n",
      "[9.9619293e-01 3.7587108e-03 4.1440024e-05 6.9273378e-06], category: 0\n",
      "[9.7151077e-01 2.7713930e-02 6.3471822e-04 1.4051730e-04], category: 0\n",
      "[4.2101738e-04 9.9666506e-01 1.7663478e-03 1.1476249e-03], category: 1\n",
      "[0.00326149 0.00193156 0.9938055  0.00100146], category: 2\n"
     ]
    }
   ],
   "source": [
    "xPredicted = model.predict(np.array([-2,-2]).reshape((1,2)))\n",
    "print(xPredicted) # < Cat2 (Red)\n",
    "\n",
    "xPredicted = model.predict(X_train)\n",
    "for i in range(5):\n",
    "    print( f\"{xPredicted[i]}, category: {np.argmax(xPredicted[i])}\")"
   ]
  },
  {
   "cell_type": "code",
   "execution_count": 44,
   "metadata": {},
   "outputs": [
    {
     "name": "stdout",
     "output_type": "stream",
     "text": [
      "Epoch 1/10\n",
      "63/63 [==============================] - 1s 1ms/step - loss: 0.7467\n",
      "Epoch 2/10\n",
      "63/63 [==============================] - 0s 2ms/step - loss: 0.2769\n",
      "Epoch 3/10\n",
      "63/63 [==============================] - 0s 1ms/step - loss: 0.1208\n",
      "Epoch 4/10\n",
      "63/63 [==============================] - 0s 1ms/step - loss: 0.0760\n",
      "Epoch 5/10\n",
      "63/63 [==============================] - 0s 1ms/step - loss: 0.0594\n",
      "Epoch 6/10\n",
      "63/63 [==============================] - 0s 1ms/step - loss: 0.0509\n",
      "Epoch 7/10\n",
      "63/63 [==============================] - 0s 1ms/step - loss: 0.0458\n",
      "Epoch 8/10\n",
      "63/63 [==============================] - 0s 2ms/step - loss: 0.0417\n",
      "Epoch 9/10\n",
      "63/63 [==============================] - 0s 1ms/step - loss: 0.0385\n",
      "Epoch 10/10\n",
      "63/63 [==============================] - 0s 1ms/step - loss: 0.0366\n"
     ]
    },
    {
     "data": {
      "text/plain": [
       "<keras.callbacks.History at 0x2da443fdac0>"
      ]
     },
     "execution_count": 44,
     "metadata": {},
     "output_type": "execute_result"
    }
   ],
   "source": [
    "# More numerically correct method\n",
    "preferredModel = tf.keras.models.Sequential(\n",
    "    [\n",
    "        tf.keras.layers.Dense(units=25, activation=\"relu\"),\n",
    "        tf.keras.layers.Dense(units=15, activation=\"relu\"),\n",
    "        tf.keras.layers.Dense(units=4, activation=\"linear\")\n",
    "    ]\n",
    ")\n",
    "\n",
    "preferredModel.compile(\n",
    "    optimizer=tf.keras.optimizers.Adam(0.001),\n",
    "    loss=tf.keras.losses.SparseCategoricalCrossentropy(from_logits=True),\n",
    ")\n",
    "\n",
    "preferredModel.fit(\n",
    "    X_train, y_train, epochs=10\n",
    ")"
   ]
  },
  {
   "cell_type": "code",
   "execution_count": 46,
   "metadata": {},
   "outputs": [
    {
     "name": "stdout",
     "output_type": "stream",
     "text": [
      "63/63 [==============================] - 0s 1ms/step\n",
      "[-1.7968146  -2.1313033   4.3474703   0.07988514], category: 2\n",
      "[ 3.9277537 -1.1935652 -6.2274723 -4.7555604], category: 0\n",
      "[ 2.8380969 -0.5217343 -4.775748  -3.807041 ], category: 0\n",
      "[-1.7834536  3.858401  -1.9471194 -1.5869493], category: 1\n",
      "[ 0.25859368 -4.835233    6.112734   -2.8631628 ], category: 2\n"
     ]
    }
   ],
   "source": [
    "predicPreferred = preferredModel.predict(X_train)\n",
    "SM_predicted = tf.nn.softmax(predicPreferred).numpy()\n",
    "\n",
    "for i in range(5):\n",
    "    print( f\"{predicPreferred[i]}, category: {np.argmax(predicPreferred[i])}\")"
   ]
  }
 ],
 "metadata": {
  "kernelspec": {
   "display_name": ".MotherVenv",
   "language": "python",
   "name": "python3"
  },
  "language_info": {
   "codemirror_mode": {
    "name": "ipython",
    "version": 3
   },
   "file_extension": ".py",
   "mimetype": "text/x-python",
   "name": "python",
   "nbconvert_exporter": "python",
   "pygments_lexer": "ipython3",
   "version": "3.9.7"
  },
  "orig_nbformat": 4
 },
 "nbformat": 4,
 "nbformat_minor": 2
}
