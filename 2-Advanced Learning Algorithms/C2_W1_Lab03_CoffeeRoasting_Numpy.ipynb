{
 "cells": [
  {
   "cell_type": "code",
   "execution_count": 1,
   "metadata": {},
   "outputs": [],
   "source": [
    "import numpy as np\n",
    "import tensorflow as tf\n",
    "import matplotlib.pyplot as plt"
   ]
  },
  {
   "cell_type": "code",
   "execution_count": 2,
   "metadata": {},
   "outputs": [],
   "source": [
    "# The dataset\n",
    "# The dataset is a list of 5 roasting temperatures and the corresponding\n",
    "def load_coffee_data():\n",
    "    \"\"\" Creates a coffee roasting data set.\n",
    "        roasting duration: 12-15 minutes is best\n",
    "        temperature range: 175-260C is best\n",
    "    \"\"\"\n",
    "    rng = np.random.default_rng(2)\n",
    "    X = rng.random(400).reshape(-1,2)\n",
    "    X[:,1] = X[:,1] * 4 + 11.5          # 12-15 min is best\n",
    "    X[:,0] = X[:,0] * (285-150) + 150  # 350-500 F (175-260 C) is best\n",
    "    Y = np.zeros(len(X))\n",
    "    \n",
    "    i=0\n",
    "    for t,d in X:\n",
    "        y = -3/(260-175)*t + 21\n",
    "        if (t > 175 and t < 260 and d > 12 and d < 15 and d<=y ):\n",
    "            Y[i] = 1\n",
    "        else:\n",
    "            Y[i] = 0\n",
    "        i += 1\n",
    "\n",
    "    return (X, Y.reshape(-1,1))\n",
    "\n",
    "x,y = load_coffee_data()"
   ]
  },
  {
   "cell_type": "code",
   "execution_count": 3,
   "metadata": {},
   "outputs": [
    {
     "data": {
      "image/png": "[encoded data removed]",
      "text/plain": [
       "<Figure size 432x288 with 1 Axes>"
      ]
     },
     "metadata": {
      "needs_background": "light"
     },
     "output_type": "display_data"
    }
   ],
   "source": [
    "pos = y == 1\n",
    "neg = y == 0\n",
    "\n",
    "\n",
    "good_1 = x[:,0].reshape((-1,1))[pos]\n",
    "good_2 = x[:,1].reshape((-1,1))[pos]\n",
    "good_X = np.vstack([good_1, good_2])\n",
    "good_X = good_X.transpose()\n",
    "\n",
    "bad_1 = x[:,0].reshape((-1,1))[neg]\n",
    "bad_2 = x[:,1].reshape((-1,1))[neg]\n",
    "bad_X = np.vstack([bad_1, bad_2])\n",
    "bad_X = bad_X.transpose()\n",
    "\n",
    "fig, ax = plt.subplots()\n",
    "ax.scatter(bad_X[:,0], bad_X[:,1], label = \"Bad roast\", c = \"red\", s = 6)\n",
    "ax.scatter(good_X[:,0], good_X[:,1], label = \"Good roast\", c = \"blue\", s = 6)\n",
    "plt.show()"
   ]
  },
  {
   "cell_type": "code",
   "execution_count": 4,
   "metadata": {},
   "outputs": [],
   "source": [
    "# Normalizing the data\n",
    "layerNorm = tf.keras.layers.Normalization(axis = -1)\n",
    "\n",
    "# Making the normalization layer learn the mean and variance of the data\n",
    "layerNorm.adapt(x)\n",
    "xNorm = layerNorm(x)"
   ]
  },
  {
   "cell_type": "code",
   "execution_count": 8,
   "metadata": {},
   "outputs": [],
   "source": [
    "# Defining the sigmoid function\n",
    "def sigmoid(z):\n",
    "    return 1/(1+np.exp(-z))\n",
    "\n",
    "def dense(xIn, w, b):\n",
    "    # Calculates the output of a dense layer with m units. \n",
    "    # if the length of input is n we have:\n",
    "    # Args:\n",
    "    #   xIn: float (1,n): input to the layer\n",
    "    #   w: float (n,m): The weight matrix\n",
    "    #   b: float (1,m): The bias vector\n",
    "    # Returns:\n",
    "    #   float (1,m): The output of the layer\n",
    "    m = w.shape[1]\n",
    "    n = xIn.shape[0]\n",
    "    out_ = np.zeros((1, m))\n",
    "    for i in range(m):\n",
    "        out_[0,i] = sigmoid(np.dot(w[:,i], xIn) + b[i])\n",
    "\n",
    "    return out_.reshape((m,))\n",
    "\n",
    "def sequental(x,W,B):\n",
    "    # definign a sequence of dense layers\n",
    "    # Args:\n",
    "    #   x: input number\n",
    "    #   W: A list of weights in each layer\n",
    "    #   B: A list of bias vectors of each layer\n",
    "\n",
    "    n = len(W)\n",
    "\n",
    "    ai = []\n",
    "    temp = x\n",
    "    for i in range(n):\n",
    "        # print(temp)\n",
    "        temp = dense(temp, W[i], B[i])\n",
    "        # print(dense(temp, W[i], B[i]))\n",
    "        # print(\"---\")\n",
    "    \n",
    "    return temp\n",
    "\n",
    "def predict(X, W, B):\n",
    "    m = X.shape[0]\n",
    "    p = np.zeros((m,1))\n",
    "    for i in range(m):\n",
    "        p[i] = sequental(X[i,:],W,B)\n",
    "    \n",
    "    return p"
   ]
  },
  {
   "cell_type": "code",
   "execution_count": 9,
   "metadata": {},
   "outputs": [
    {
     "name": "stdout",
     "output_type": "stream",
     "text": [
      "[[9.71932288e-01]\n",
      " [3.28978626e-08]]\n",
      "decisions = \n",
      "[[1.]\n",
      " [0.]]\n"
     ]
    }
   ],
   "source": [
    "W = [\n",
    "    np.array( [[-8.93,  0.29, 12.9 ], [-0.1,  -7.32, 10.81]] ),\n",
    "    np.array( [[-31.18], [-27.59], [-32.56]] )\n",
    "]\n",
    "\n",
    "B = [\n",
    "    np.array( [-9.82, -9.28,  0.96] ),\n",
    "    np.array( [15.41] )\n",
    "]\n",
    "\n",
    "X_tst = np.array([\n",
    "    [200,13.9],  # postive example\n",
    "    [200,17]])   # negative example\n",
    "X_tstn = layerNorm(X_tst)  # remember to normalize\n",
    "predictions = predict(X_tstn, W, B)\n",
    "print(predictions)\n",
    "yhat = np.zeros_like(predictions)\n",
    "for i in range(len(predictions)):\n",
    "    if predictions[i] >= 0.5:\n",
    "        yhat[i] = 1\n",
    "    else:\n",
    "        yhat[i] = 0\n",
    "print(f\"decisions = \\n{yhat}\")"
   ]
  },
  {
   "cell_type": "code",
   "execution_count": 45,
   "metadata": {},
   "outputs": [
    {
     "data": {
      "image/png": "[encoded data removed]",
      "text/plain": [
       "<Figure size 432x288 with 1 Axes>"
      ]
     },
     "metadata": {
      "needs_background": "light"
     },
     "output_type": "display_data"
    }
   ],
   "source": [
    "pos = y == 1\n",
    "neg = y == 0\n",
    "\n",
    "\n",
    "good_1 = x[:,0].reshape((-1,1))[pos]\n",
    "good_2 = x[:,1].reshape((-1,1))[pos]\n",
    "good_X = np.vstack([good_1, good_2])\n",
    "good_X = good_X.transpose()\n",
    "\n",
    "bad_1 = x[:,0].reshape((-1,1))[neg]\n",
    "bad_2 = x[:,1].reshape((-1,1))[neg]\n",
    "bad_X = np.vstack([bad_1, bad_2])\n",
    "bad_X = bad_X.transpose()\n",
    "\n",
    "fig, ax = plt.subplots()\n",
    "ax.scatter(bad_X[:,0], bad_X[:,1], label = \"Bad roast\", c = \"red\", s = 6)\n",
    "ax.scatter(good_X[:,0], good_X[:,1], label = \"Good roast\", c = \"blue\", s = 6)\n",
    "\n",
    "for i in range(X_tst.shape[0]):\n",
    "    if predictions[i] < .5:\n",
    "        ax.scatter(X_tst[i,0],X_tst[i,1], c = \"g\", s = 100, marker = \"x\")\n",
    "    if predictions[i] > .5:\n",
    "        ax.scatter(X_tst[i,0],X_tst[i,1], c = \"g\", s = 100, marker = \".\")\n",
    "\n",
    "plt.show()"
   ]
  }
 ],
 "metadata": {
  "kernelspec": {
   "display_name": ".MotherVenv",
   "language": "python",
   "name": "python3"
  },
  "language_info": {
   "codemirror_mode": {
    "name": "ipython",
    "version": 3
   },
   "file_extension": ".py",
   "mimetype": "text/x-python",
   "name": "python",
   "nbconvert_exporter": "python",
   "pygments_lexer": "ipython3",
   "version": "3.9.7"
  },
  "orig_nbformat": 4
 },
 "nbformat": 4,
 "nbformat_minor": 2
}
